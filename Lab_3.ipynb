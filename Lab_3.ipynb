{
  "nbformat": 4,
  "nbformat_minor": 0,
  "metadata": {
    "colab": {
      "provenance": [],
      "authorship_tag": "ABX9TyOtVYrZJEXUnmgEbz4axxqD",
      "include_colab_link": true
    },
    "kernelspec": {
      "name": "python3",
      "display_name": "Python 3"
    },
    "language_info": {
      "name": "python"
    }
  },
  "cells": [
    {
      "cell_type": "markdown",
      "metadata": {
        "id": "view-in-github",
        "colab_type": "text"
      },
      "source": [
        "<a href=\"https://colab.research.google.com/github/TifannyA/Lab3-Miner-a/blob/main/Lab_3.ipynb\" target=\"_parent\"><img src=\"https://colab.research.google.com/assets/colab-badge.svg\" alt=\"Open In Colab\"/></a>"
      ]
    },
    {
      "cell_type": "code",
      "execution_count": 2,
      "metadata": {
        "id": "G9CwOZ6dHBUD"
      },
      "outputs": [],
      "source": [
        "import pandas as pd\n",
        "import numpy as np\n",
        "import seaborn as sns \n",
        "import matplotlib.pyplot as plt\n",
        "from mpl_toolkits.mplot3d import Axes3D"
      ]
    },
    {
      "cell_type": "code",
      "source": [
        "url='https://raw.githubusercontent.com/TifannyA/Lab3-Miner-a/main/Womens%20Clothing%20E-Commerce%20Reviews.csv'\n",
        "df = pd.read_csv(url)\n",
        "print(df.shape)"
      ],
      "metadata": {
        "colab": {
          "base_uri": "https://localhost:8080/"
        },
        "id": "nfvTfV6zbx5f",
        "outputId": "8e867b97-7a32-4dce-fc4a-0def6421f4e7"
      },
      "execution_count": 3,
      "outputs": [
        {
          "output_type": "stream",
          "name": "stdout",
          "text": [
            "(23486, 11)\n"
          ]
        }
      ]
    },
    {
      "cell_type": "code",
      "source": [
        "\n",
        "df.head()\n"
      ],
      "metadata": {
        "id": "51QQ09criGds"
      },
      "execution_count": null,
      "outputs": []
    },
    {
      "cell_type": "code",
      "source": [
        "#Explorando la estructura del dataframe\n",
        "df.info()"
      ],
      "metadata": {
        "id": "JqLhsSAYkTRw",
        "colab": {
          "base_uri": "https://localhost:8080/"
        },
        "outputId": "b53cfa40-c92a-4c37-c248-49db46c69b05"
      },
      "execution_count": 5,
      "outputs": [
        {
          "output_type": "stream",
          "name": "stdout",
          "text": [
            "<class 'pandas.core.frame.DataFrame'>\n",
            "RangeIndex: 23486 entries, 0 to 23485\n",
            "Data columns (total 11 columns):\n",
            " #   Column                   Non-Null Count  Dtype \n",
            "---  ------                   --------------  ----- \n",
            " 0   Unnamed: 0               23486 non-null  int64 \n",
            " 1   Clothing ID              23486 non-null  int64 \n",
            " 2   Age                      23486 non-null  int64 \n",
            " 3   Title                    19676 non-null  object\n",
            " 4   Review Text              22641 non-null  object\n",
            " 5   Rating                   23486 non-null  int64 \n",
            " 6   Recommended IND          23486 non-null  int64 \n",
            " 7   Positive Feedback Count  23486 non-null  int64 \n",
            " 8   Division Name            23472 non-null  object\n",
            " 9   Department Name          23472 non-null  object\n",
            " 10  Class Name               23472 non-null  object\n",
            "dtypes: int64(6), object(5)\n",
            "memory usage: 2.0+ MB\n"
          ]
        }
      ]
    },
    {
      "cell_type": "code",
      "source": [
        "grupo = df.iloc[0:2,1:10]\n",
        "print(grupo.head(5))\n"
      ],
      "metadata": {
        "id": "MeZfWWcElmbw"
      },
      "execution_count": null,
      "outputs": []
    },
    {
      "cell_type": "code",
      "source": [
        "#Set de datos solamente con las siguientes columnas\n",
        "datos = pd.DataFrame(df)\n",
        "datos.groupby(by='Class Name').mean().round()\n",
        "datos.groupby(by='Age').mean().round()\n",
        "datos.groupby(by='Recommended IND').mean().round()\n",
        "datos.groupby(by='Positive Feedback Count').mean().round()\n",
        "datos.groupby(by='Division Name').mean().round()\n",
        "datos.groupby(by='Department Name').mean().round()\n",
        "\n",
        "\n"
      ],
      "metadata": {
        "id": "5sJk7YmizQAl"
      },
      "execution_count": null,
      "outputs": []
    },
    {
      "cell_type": "code",
      "source": [
        "#Determinar los valores únicos\n",
        "\n",
        "#datos['Rating'].unique() #5\n",
        "#datos['Recommended IND'].unique() #2\n",
        "datos['Positive Feedback Count'].unique()\n"
      ],
      "metadata": {
        "id": "TBTXH-3D0TBl"
      },
      "execution_count": null,
      "outputs": []
    },
    {
      "cell_type": "markdown",
      "source": [
        "Determine cual de las variables anteriores son categóricas \n",
        "\n",
        "-Division Name\n",
        "\n",
        "-Department Name\n",
        "\n",
        "-Class Name\n",
        "\n",
        "Estas variables son de tipo Object, por lo que son variables categóricas\n",
        "\n"
      ],
      "metadata": {
        "id": "zTpF7DwhjFBm"
      }
    },
    {
      "cell_type": "code",
      "source": [
        "#datos['Class Name'].unique()#22\n",
        "datos['Customer Type'].unique()\n",
        "#datos['Class'].unique()   # todas son 2 pero class tiene 3 datos\n",
        "#datos['Type of Travel'].unique()\n",
        "#datos['satisfaction'].unique()\n"
      ],
      "metadata": {
        "id": "Vopm2oNy0zRv"
      },
      "execution_count": null,
      "outputs": []
    },
    {
      "cell_type": "code",
      "source": [
        "#Revisamos si las tablas contienen valores nulos\n",
        "\n",
        "# filter = datos['Class Name'].isna()\n",
        "# filter = datos['Age'].isna()\n",
        "# filter = datos['Recommended IND'].isna()\n",
        "# filter = datos['Positive Feedback Count'].isna()\n",
        "#filter = datos['Division Name'].isnull()\n",
        "# filter = datos['Department Name'].isna()\n",
        "\n",
        "\n",
        "\n",
        "\n"
      ],
      "metadata": {
        "id": "9ZHqLaJ2ABd0"
      },
      "execution_count": null,
      "outputs": []
    },
    {
      "cell_type": "code",
      "source": [
        "datos.isnull().sum()"
      ],
      "metadata": {
        "id": "c7H0SMfcA0XM"
      },
      "execution_count": null,
      "outputs": []
    },
    {
      "cell_type": "code",
      "source": [
        "datos.info()"
      ],
      "metadata": {
        "id": "LVK2trb5CctD"
      },
      "execution_count": null,
      "outputs": []
    },
    {
      "cell_type": "code",
      "source": [
        "#Se modifica el nombre de cada tabla  español\n",
        "datos=datos.rename(columns={'index':'indice'})\n",
        "datos=datos.rename(columns={'Unnamed':'Sin nombre'})\n",
        "datos=datos.rename(columns={'Clothing ID':'Identificación de ropa'})\n",
        "datos=datos.rename(columns={'Title':'Titulo'})\n",
        "datos=datos.rename(columns={'Review Text':'Texto de revision'})\n",
        "datos=datos.rename(columns={'Rating':'Clasificacion'})\n",
        "datos=datos.rename(columns={'Age':'Edad'})\n",
        "datos=datos.rename(columns={'Class Name':'Nombre Clase'})\n",
        "datos=datos.rename(columns={'Recommended IND':'IND Recomendado'})\n",
        "datos=datos.rename(columns={'Positive Feedback Count':'Recuento de comentarios positivos'})\n",
        "datos=datos.rename(columns={'Division Name':'Nombre de Division'})\n",
        "datos=datos.rename(columns={'Department Name':'Nombre de Departamento'})\n",
        "\n",
        "dfc=datos.reset_index()\n",
        "dfc.reset_index(drop=True,inplace=True)\n",
        "dfc\n"
      ],
      "metadata": {
        "id": "dm_dndBfDYdX"
      },
      "execution_count": null,
      "outputs": []
    },
    {
      "cell_type": "code",
      "source": [
        "#Gráfico boxplot que muestra las edades\n",
        "sns.boxplot(data=datos[\"Edad\"], orient=\"h\")"
      ],
      "metadata": {
        "id": "FA4Rp6BgNWom"
      },
      "execution_count": null,
      "outputs": []
    },
    {
      "cell_type": "code",
      "source": [
        "#Gráfico boxplot que muestra los IND Recomendados\n",
        "sns.boxplot(data=datos[\"IND Recomendado\"], orient=\"h\")\n"
      ],
      "metadata": {
        "id": "w6-nC7JUOz2T"
      },
      "execution_count": null,
      "outputs": []
    },
    {
      "cell_type": "code",
      "source": [
        "#Gráfico boxplot que muestra la clasificacion\n",
        "sns.boxplot(data=datos[\"Clasificacion\"], orient=\"h\")\n"
      ],
      "metadata": {
        "id": "HhkjWBhaO7_u"
      },
      "execution_count": null,
      "outputs": []
    },
    {
      "cell_type": "code",
      "source": [
        "#Gráfico boxplot que muestra los comentarios positivos\n",
        "sns.boxplot(data=datos[\"Recuento de comentarios positivos\"], orient=\"h\")\n"
      ],
      "metadata": {
        "id": "Z4KQIv2wPBrk"
      },
      "execution_count": null,
      "outputs": []
    },
    {
      "cell_type": "code",
      "source": [
        "#Muestra histograma de las edades\n",
        "plt.rcParams[\"figure.figsize\"]=(25,25)\n",
        "df.drop(['Age'],axis=1).hist()\n",
        "plt.show()"
      ],
      "metadata": {
        "id": "OF4o2DNmPJoM"
      },
      "execution_count": null,
      "outputs": []
    },
    {
      "cell_type": "code",
      "source": [
        "#Agrupacion del nombre de departamento\n",
        "agrupacion=pd.DataFrame(df)\n",
        "agrupacion.groupby(by='Department Name').mean().round()\n"
      ],
      "metadata": {
        "id": "bOfAlGo9Y0S9"
      },
      "execution_count": null,
      "outputs": []
    },
    {
      "cell_type": "code",
      "source": [
        "#Agrupacion del nombre de division\n",
        "\n",
        "agrupacion=pd.DataFrame(df)\n",
        "agrupacion.groupby(by='Division Name').mean().round()"
      ],
      "metadata": {
        "id": "67dfbGjGbTlv"
      },
      "execution_count": null,
      "outputs": []
    },
    {
      "cell_type": "code",
      "source": [
        "#Agrupacion del nombre de clase\n",
        "\n",
        "agrupacion=pd.DataFrame(df)\n",
        "agrupacion.groupby(by='Class Name').mean().round()"
      ],
      "metadata": {
        "id": "mmQXzls-bYWK"
      },
      "execution_count": null,
      "outputs": []
    },
    {
      "cell_type": "code",
      "source": [
        "#Convertir los datos a data frame\n",
        "datos=pd.DataFrame(datos)\n",
        "dfc=datos.reset_index()\n",
        "dfc.reset_index(drop=True,inplace=True)\n",
        "display(datos)"
      ],
      "metadata": {
        "id": "_2pwfvlpbzdG"
      },
      "execution_count": null,
      "outputs": []
    },
    {
      "cell_type": "code",
      "source": [
        "# fig = plt.figure(figsize=(20,5))\n",
        "# plt.pie(dfc['Nombre de Division'],labels=dfc['Division Name'],autopct=\"%0.1f %%\")\n",
        "# plt.show"
      ],
      "metadata": {
        "id": "LnE_dGtycd6R"
      },
      "execution_count": null,
      "outputs": []
    },
    {
      "cell_type": "code",
      "source": [
        "#Promedio de las edades\n",
        "promedio_edad=round(df['Age'].mean())\n",
        "print(f'La edad promedio es de {promedio_edad}')"
      ],
      "metadata": {
        "colab": {
          "base_uri": "https://localhost:8080/"
        },
        "id": "pbbdQOEldJJh",
        "outputId": "b13920b8-1f62-48cd-ba20-3772ffad5f55"
      },
      "execution_count": null,
      "outputs": [
        {
          "output_type": "stream",
          "name": "stdout",
          "text": [
            "La edada de los pasajeros es de 43\n"
          ]
        }
      ]
    }
  ]
}